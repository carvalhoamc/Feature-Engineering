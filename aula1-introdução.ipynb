{
 "cells": [
  {
   "cell_type": "markdown",
   "metadata": {},
   "source": [
    "# Feature Engineering\n",
    "<p style=\"color:blue;\"><strong>Professor Doutor Alexandre Miguel de Carvalho (2024)</strong></p>\n",
    "\n",
    "\n",
    "\n",
    "---\n",
    "<p style=\"color:lightgray;\">\n",
    "Este curso é baseado no livro: <br>\n",
    "<strong>Feature Engineering Bookcamp</strong> <br>\n",
    "Autor: Ozdemir, S. (2022). Feature Engineering Bookcamp. Manning Publications.\n",
    "\n",
    "As figuras também são do mesmo livro a não ser que se indique outras fontes.\n",
    "</p>\n",
    "\n",
    "\n",
    "---"
   ]
  },
  {
   "cell_type": "markdown",
   "metadata": {},
   "source": [
    "## Introdução\n"
   ]
  },
  {
   "cell_type": "markdown",
   "metadata": {},
   "source": [
    "\n",
    "Quando vamos resolver um problema de negócios utilizando a tecnologia de Machine Learning ou Aprendizado de Máquina, seguimos os seguintes passos:\n",
    "* Definição do domínio do problema;\n",
    "* Obtenção dos Dados e Análise Exploratória;\n",
    "* Feature Engineering;\n",
    "* Seleção de Modelos e Treinamento;\n",
    "* Deployment, Avaliação e Monitoramento.\n",
    "\n",
    "Como é exemplificado na Figura-1 abaixo:\n",
    "\n",
    "<figure>\n",
    "    <img src=\"ml-pipeline.png\" alt=\"blablabla\">\n",
    "    <figcaption>Figura-1: Machine Learning Pipeline</figcaption>\n",
    "</figure>\n",
    "\n"
   ]
  },
  {
   "cell_type": "markdown",
   "metadata": {},
   "source": [
    "## Feature Engineering"
   ]
  },
  {
   "cell_type": "markdown",
   "metadata": {},
   "source": [
    "***Feature Engineering*** é a arte de manipular e transformar dados em um formato que represente de maneira ideal o problema subjacente que um algoritmo de ***Machine Learning*** está tentando modelar e mitigar complexidades e vieses inerentes aos dados. \n",
    "\n",
    "Por ser mais fácil trabalhar diretamente com os modelos, ***Feature Engineering*** é, geralmente, negligenciada pela maioria dos Cientistas de Dados. Embora seja a fase mais importante de um pipeline de **Machine Learning**.\n",
    "\n",
    "***Feature Engineering***, quando bem aplicado, possibilita a criação de modelos de ***Machine Learning*** mais leves, rápidos e acertivos.\n"
   ]
  },
  {
   "cell_type": "markdown",
   "metadata": {},
   "source": [
    "<figure>\n",
    "    <img src=\"model_centric_data_centric.png\">\n",
    "    <figcaption>Figura 2: Foco no Modelo, Foco nos Dados</figcaption>\n",
    "</figure>"
   ]
  },
  {
   "cell_type": "markdown",
   "metadata": {},
   "source": [
    "\n",
    "\n",
    "***Feature Engineering*** é dividida em quatro etapas distintas mostradas na Figura-3 a seguir.\n"
   ]
  },
  {
   "cell_type": "markdown",
   "metadata": {},
   "source": [
    "<figure>\n",
    "    <img src=\"pipeline_features.png\">\n",
    "    <figcaption>Figura-3: Features Pipeline</figcaption>\n",
    "</figure>"
   ]
  },
  {
   "cell_type": "markdown",
   "metadata": {},
   "source": [
    "***Feature Engineering*** :\n",
    "\n",
    "* ***Feature Understanding***: envolve a compreensão e análise das características (ou \"features\") que estão sendo usadas para treinar o modelo. Isso pode envolver várias atividades, tais como:\n",
    "    - Análise exploratória de dados para entender a distribuição e as relações entre as características.\n",
    "    - Verificação da relevância e utilidade das características para a tarefa de previsão.\n",
    "    - Identificação de características potencialmente problemáticas, como aquelas com muitos valores ausentes, aquelas com ruído ou erros, ou aquelas que podem causar viés no modelo.\n",
    "    - Criação de novas características a partir das existentes.\n",
    "\n",
    "    O objetivo da ***Feature Understanding*** é garantir que as características usadas para treinar o modelo são relevantes, úteis e de alta qualidade, para maximizar a performance do modelo de Machine Learning.\n",
    "---\n",
    "\n",
    "* ***Feature Structuring***: envolve a organização e transformação de dados brutos em um formato que pode ser usado para treinar modelos de aprendizado de máquina. Isso pode envolver várias atividades, tais como:\n",
    "    - Limpeza de dados: removendo ou imputando valores ausentes, lidando com outliers, etc.\n",
    "    - Transformação de dados: Normalização ou padronização de características, codificação de variáveis categóricas, etc.\n",
    "    - Seleção de características: escolhendo as características mais relevantes para usar no modelo.\n",
    "\n",
    "    O objetivo do ***Feature Structuring*** é preparar os dados de uma maneira que maximize o desempenho do modelo de ***Machine Learning***.\n",
    "---\n",
    "\n",
    "\n",
    "* ***Feature Optimization***: envolve aprimorar a qualidade e eficácia das características (ou \"features\") usadas para treinar o modelo. Isso pode envolver várias atividades, tais como:\n",
    "\n",
    "    - Seleção de características: Escolhendo as características mais relevantes para usar no modelo. Isso pode ser feito através de métodos estatísticos, como testes de hipóteses, ou através de métodos de aprendizado de máquina, como algoritmos de seleção de características.\n",
    "\n",
    "    - Engenharia de características: Criando novas características a partir das existentes que podem ser mais informativas para o modelo. Isso pode envolver a combinação de características existentes, a criação de características polinomiais, a aplicação de transformações logarítmicas ou exponenciais, etc.\n",
    "\n",
    "    - Otimização de hiperparâmetros: Ajustando os parâmetros do modelo de aprendizado de máquina para maximizar a performance do modelo. Isso pode envolver a otimização de parâmetros relacionados à preparação de características, como o número de bins em uma binarização, o grau de um polinômio em uma característica polinomial, etc.\n",
    "\n",
    "    O objetivo do Feature Optimization é maximizar a performance do modelo de Machine Learning, melhorando a qualidade e eficácia das características usadas para treinar o modelo.\n",
    "---\n",
    "\n",
    "* ***Feature Evaluation***: envolve avaliar a importância e a contribuição das características (ou \"features\") para a performance do modelo de aprendizado de máquina. Isso pode envolver várias atividades, tais como:\n",
    "\n",
    "    - Importância de características: Usando métodos estatísticos ou de aprendizado de máquina para avaliar a importância de cada característica para a previsão do modelo. Isso pode ajudar a identificar quais características estão contribuindo mais para o modelo e quais podem ser ignoradas.\n",
    "\n",
    "    - Avaliação de modelos: Comparando a performance de diferentes modelos que usam diferentes conjuntos de características. Isso pode ajudar a identificar quais características melhoram a performance do modelo e quais não têm impacto ou podem até prejudicar a performance.\n",
    "\n",
    "    - Validação cruzada: Usando técnicas de validação cruzada para avaliar a robustez e a confiabilidade das características. Isso pode ajudar a identificar características que funcionam bem em uma variedade de diferentes divisões de treinamento e teste.\n",
    "\n",
    "    O objetivo da ***Feature Evaluation*** é garantir que as características usadas para treinar o modelo são eficazes e contribuem para a performance do modelo.\n",
    "\n",
    "\n"
   ]
  },
  {
   "cell_type": "markdown",
   "metadata": {},
   "source": [
    "## Tipos de ***Feature Engineering***"
   ]
  },
  {
   "cell_type": "markdown",
   "metadata": {},
   "source": [
    "### 1 ***Feature Improvement***\n",
    "Melhorar a utilidade das **features** disponíveis por meio de transformações matemáticas. Por exemplo, preencher dados de temperatura ausentes com a média das temperaturas disponíveis."
   ]
  },
  {
   "cell_type": "markdown",
   "metadata": {},
   "source": [
    "### 2 ***Feature construction***\n",
    "Aumentar o conjunto de dados criando novas **features** interpretáveis a partir de **features**  existentes. Exemplo: dividir o preço total de um imóvel residencial pelo metro quadrado para criar uma nova **feature** 'preço por metro quadrado' em um conjunto de dados de avaliação residencial."
   ]
  },
  {
   "cell_type": "markdown",
   "metadata": {},
   "source": [
    "### 3 ***Feature selection***\n",
    "Escolher o melhor subconjunto de **features** de um conjunto existente. Exemplo: depois de criar 'preço por metro quadrado', remover 'preço total de um imóvel residencial' e 'preço do metro quadrado'."
   ]
  },
  {
   "cell_type": "markdown",
   "metadata": {},
   "source": [
    "### 4 ***Feature extraction***\n",
    "Utilizar algoritmos que geram novas **features** geralmente não interpretáveis pelo ser humano. Exemplo: utilizar modelos linguisticos como o BERT para mapear texto não estruturado para um texto estruturado e geralmente não interpretativo no espaço vetorial."
   ]
  },
  {
   "cell_type": "markdown",
   "metadata": {},
   "source": [
    "### 5 ***Feature learning***\n",
    "Gerar automaticamente um novo conjunto de **features** geralmente extraindo estruturas e representações de aprendizagem de dados não estruturados brutos como textos, imagens e vídeos, muitas vezes usando aprendizagem profunda (***deep learning***). Exemplo: usar **Generative Adversarial Networks** (GANs) para desconstruir e reconstruir imagens com o propósito de aprender a representação ideal para um dada tarefa."
   ]
  }
 ],
 "metadata": {
  "kernelspec": {
   "display_name": "Python 3",
   "language": "python",
   "name": "python3"
  },
  "language_info": {
   "codemirror_mode": {
    "name": "ipython",
    "version": 3
   },
   "file_extension": ".py",
   "mimetype": "text/x-python",
   "name": "python",
   "nbconvert_exporter": "python",
   "pygments_lexer": "ipython3",
   "version": "3.10.12"
  }
 },
 "nbformat": 4,
 "nbformat_minor": 2
}
